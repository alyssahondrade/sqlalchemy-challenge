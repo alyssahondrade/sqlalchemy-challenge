%matplotlib inline
from matplotlib import style
style.use('fivethirtyeight')
import matplotlib.pyplot as plt


import numpy as np
import pandas as pd
import datetime as dt





# Python SQL toolkit and Object Relational Mapper
import sqlalchemy
from sqlalchemy.ext.automap import automap_base
from sqlalchemy.orm import Session
from sqlalchemy import create_engine, func, inspect


# Create engine to hawaii.sqlite
engine = create_engine("sqlite:///Resources/hawaii.sqlite")


# Reflect an existing database into a new model
Base = automap_base()

# Reflect the tables
Base.prepare(autoload_with=engine)


# View all of the classes that automap found
inspector = inspect(engine)
inspector.get_table_names()


# Save references to each table
measurement_ref = Base.classes.measurement
station_ref = Base.classes.station


# Create our session (link) from Python to the DB
session = Session(bind=engine)





# Set the formatting string for printing
hash_string = 8*'#'

# Get column names for 'measurement'
measurement_cols = inspector.get_columns('measurement')

# Print the results for 'measurement' column names
print(f"{hash_string} Measurement {hash_string}")
for col in measurement_cols:
    print(col['name'], col['type'])

# Get column names for 'station'
station_cols = inspector.get_columns('station')

# Print the results for 'station' column names
print(f"\n{hash_string} Station {hash_string}")
for col in station_cols:
    print(col['name'], col['type'])


# Find the most recent date in the data set.
latest_date = session.query(func.max(measurement_ref.date)).one()
latest_date


# Design a query to retrieve the last 12 months of precipitation data and plot the results. 
# Starting from the most recent data point in the database. 
date_string = latest_date[0].split('-')

# Convert latest_date to a datetime object
dt_date = dt.datetime(
    int(date_string[0]),
    int(date_string[1]),
    int(date_string[2]))

# Calculate the date one year from the last date in data set.
year_ago = dt_date - dt.timedelta(days=366)

# Perform a query to retrieve the date and precipitation scores only
precipitation = session.query(measurement_ref.date, measurement_ref.prcp).\
    filter(measurement_ref.date >= year_ago).all()

# Save the query results as a Pandas DataFrame. Explicitly set the column names
prcp_df = pd.DataFrame(
    precipitation, columns=['date', 'precipitation']).dropna(how='any')

# Sort the dataframe by date
sorted_prcp = prcp_df.sort_values(by=['date']).reset_index(drop=True)

# FOR PLOTTING - Set the x-tick frequency (display 5 dates along x-axis)
num_points = 5
num_dates = len(sorted_prcp['date'])

xticks_range = np.arange(
    start = 0,
    stop = num_dates,
    step = int(num_dates / (num_points-1)))

# FOR PLOTTING - Get the corresponding x-tick labels
xticks_labels = [sorted_prcp.loc[value, 'date'] for value in xticks_range]

# Use Pandas Plotting with Matplotlib to plot the data
bar_chart = sorted_prcp.plot(
    kind = 'bar',
    x = 'date',
    y = 'precipitation',
    title = 'Precipitation over 12 months',
    width = 20)

# Set the labels, limits, and legend location
bar_chart.set_xlabel('Date')
bar_chart.set_ylabel('Precipitation (mm)')
bar_chart.set_xticks(xticks_range)
bar_chart.set_xticklabels(labels=xticks_labels)
bar_chart.set_ylim(0, 180)
bar_chart.legend(loc='upper center')

plt.show()


# Use Pandas to calculate the summary statistics for the precipitation data
sorted_prcp.describe()





# Design a query to calculate the total number of stations in the dataset
total_stations = session.query(func.count(station_ref.id)).all()
total_stations


# Design a query to find the most active stations (i.e. which stations have the most rows?)
select_station = [measurement_ref.station, func.count(measurement_ref.id)]

# List the stations and their counts in descending order.
active_stations = session.query(*select_station).\
    group_by(measurement_ref.station).\
    order_by(func.count(measurement_ref.id).desc()).all()
active_stations





# Using the most active station id from the previous query, calculate the lowest, highest, and average temperature.
select_stats = [func.min(measurement_ref.tobs),
                func.max(measurement_ref.tobs),
                func.avg(measurement_ref.tobs)]

active_temps = session.query(*select_stats).\
    filter(measurement_ref.station == active_stations[0][0]).all()
active_temps


# Using the most active station id
# Query the last 12 months of temperature observation data for this station and plot the results as a histogram
most_active = session.query(measurement_ref.tobs).\
    filter(measurement_ref.station == active_stations[0][0]).\
    filter(measurement_ref.date >= year_ago).all()

# Create DataFrame from query result
active_df = pd.DataFrame(most_active)

# Create histogram, where: bins=12
active_df.hist('tobs', bins=12, label='tobs')

# Add title, labels, and legend to the plot
plt.title(
    "Most Active Station - \nTemperature Observations (12 month period)",
    fontsize=16)
plt.xlabel("Temperature")
plt.ylabel("Frequency")
plt.legend()

plt.show()





# Close Session
session.close()
