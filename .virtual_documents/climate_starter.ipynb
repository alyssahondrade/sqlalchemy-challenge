%matplotlib inline
from matplotlib import style
style.use('fivethirtyeight')
import matplotlib.pyplot as plt


import numpy as np
import pandas as pd
import datetime as dt





# Python SQL toolkit and Object Relational Mapper
import sqlalchemy
from sqlalchemy.ext.automap import automap_base
from sqlalchemy.orm import Session
from sqlalchemy import create_engine, func, inspect


# Create engine to hawaii.sqlite
engine = create_engine("sqlite:///Resources/hawaii.sqlite")


# Reflect an existing database into a new model
Base = automap_base()

# Reflect the tables
Base.prepare(autoload_with=engine)


# View all of the classes that automap found
inspector = inspect(engine)
inspector.get_table_names()


# Save references to each table
Measurement = Base.classes.measurement
Station = Base.classes.station


# Create our session (link) from Python to the DB
session = Session(bind=engine)





# Get column names for 'measurement'
measurement_cols = inspector.get_columns('measurement')
print(f"{6*'#'} Measurement {6*'#'}")
for col in measurement_cols:
    print(col['name'], col['type'])

# Get column names for 'station'
station_cols = inspector.get_columns('station')
print(f"\n{8*'#'} Station {8*'#'}")
for col in station_cols:
    print(col['name'], col['type'])


# Find the most recent date in the data set.
latest_date = session.query(func.max(Measurement.date)).one()
latest_date


# Design a query to retrieve the last 12 months of precipitation data and plot the results. 
# Starting from the most recent data point in the database. 
date_string = latest_date[0].split('-')
dt_date = dt.datetime(
    int(date_string[0]),
    int(date_string[1]),
    int(date_string[2]))

# Calculate the date one year from the last date in data set.
year_ago = dt_date - dt.timedelta(days=366)
print(year_ago)

# Perform a query to retrieve the data and precipitation scores
precipitation = session.query(Measurement.date, Measurement.prcp).\
    filter(Measurement.date >= year_ago).all()

# Save the query results as a Pandas DataFrame. Explicitly set the column names
prcp_df = pd.DataFrame(precipitation, columns=['Date', 'Precipitation']).dropna(how='any')

# Sort the dataframe by date
sorted_prcp = prcp_df.sort_values(by=['Date']).reset_index(drop=True)
print(sorted_prcp)
# Use Pandas Plotting with Matplotlib to plot the data
sample = np.arange(0, len(sorted_prcp['Date']), 453)

x_ticks = []
for value in sample:
    x_ticks.append(sorted_prcp.loc[value, 'Date'])
x_ticks


bar_chart = sorted_prcp.plot(
    kind = 'bar',
    title = 'Precipitation over 12 months',
    xlabel = 'Date',
    ylabel = 'Precipitation (mm)',
    xticks = sample,
    width = 20)
bar_chart.set_xticklabels(labels = x_ticks)
# sample = np.arange(0, len(sorted_prcp['Date']), 5)
# sample




# bar_chart.set_xticklabels(labels = ['2016-08-23'])
# x_axis_range = np.arange(len(sorted_prcp['Date']))
# plt.xticks(x_axis_range, labels=sorted_prcp['Date'])


# Design a query to retrieve the last 12 months of precipitation data and plot the results. 
# Starting from the most recent data point in the database. 

# Calculate the date one year from the last date in data set.


# Perform a query to retrieve the data and precipitation scores


# Save the query results as a Pandas DataFrame. Explicitly set the column names


# Sort the dataframe by date


# Use Pandas Plotting with Matplotlib to plot the data



# Use Pandas to calculate the summary statistics for the precipitation data






# Design a query to calculate the total number of stations in the dataset



# Design a query to find the most active stations (i.e. which stations have the most rows?)
# List the stations and their counts in descending order.



# Using the most active station id from the previous query, calculate the lowest, highest, and average temperature.



# Using the most active station id
# Query the last 12 months of temperature observation data for this station and plot the results as a histogram






# Close Session
session.close()



